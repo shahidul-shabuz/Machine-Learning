{
  "nbformat": 4,
  "nbformat_minor": 0,
  "metadata": {
    "colab": {
      "provenance": [],
      "authorship_tag": "ABX9TyMLg+eyIG1bqr7d/9qCSIYl",
      "include_colab_link": true
    },
    "kernelspec": {
      "name": "python3",
      "display_name": "Python 3"
    },
    "language_info": {
      "name": "python"
    }
  },
  "cells": [
    {
      "cell_type": "markdown",
      "metadata": {
        "id": "view-in-github",
        "colab_type": "text"
      },
      "source": [
        "<a href=\"https://colab.research.google.com/github/shahidul-shabuz/Machine-Learning/blob/main/Numpy_python.ipynb\" target=\"_parent\"><img src=\"https://colab.research.google.com/assets/colab-badge.svg\" alt=\"Open In Colab\"/></a>"
      ]
    },
    {
      "cell_type": "markdown",
      "source": [
        "**Introduction to NumPy**\n",
        "\n",
        "\n",
        "\n",
        "\n",
        "**NumPy, which stands for \"Numerical Python,\" is a fundamental library for numerical and mathematical operations in Python.** It provides support for working with large, multi-dimensional arrays and matrices, along with a collection of mathematical functions to operate on these arrays efficiently. NumPy is a core library for scientific computing in Python and is the foundation for many other libraries and tools used in data analysis, machine learning, and scientific research.\n",
        "\n",
        "**Here are some key features and concepts related to NumPy:**\n",
        "\n",
        "**Ndarray:** The primary data structure in NumPy is the ndarray, short for \"n-dimensional array.\" It is a versatile data structure that can represent arrays of various dimensions. These arrays are homogeneous, meaning they contain elements of the same data type.\n",
        "\n",
        "**Array Creation:** You can create NumPy arrays using functions like np.array(), np.zeros(), np.ones(), and np.arange(). You can also create random arrays using np.random functions.\n",
        "\n",
        "**Array Operations:** NumPy provides a wide range of mathematical and logical operations for element-wise array manipulation. These operations are often more efficient than equivalent operations in standard Python lists.\n",
        "\n",
        "**Broadcasting:** NumPy allows you to perform operations on arrays of different shapes, and it can automatically broadcast the smaller array to match the shape of the larger one.\n",
        "\n",
        "**Indexing and Slicing:** You can access and manipulate elements within NumPy arrays using indexing and slicing, similar to standard Python lists.\n",
        "\n",
        "**Mathematical Functions:** NumPy includes a comprehensive set of mathematical functions, including trigonometric, logarithmic, and exponential functions, as well as linear algebra operations, statistical functions, and more.\n",
        "\n",
        "**Aggregation and Reduction:** NumPy supports operations for aggregating and reducing arrays, such as sum, mean, median, min, max, and many others.\n",
        "\n",
        "**Reshaping and Transposing:** You can change the shape and dimensions of arrays using functions like reshape() and transpose().\n",
        "\n",
        "**File I/O:** NumPy allows you to save and load arrays to/from files using functions like np.save() and np.load().\n",
        "\n",
        "**Integration with Other Libraries:** NumPy is often used in conjunction with other libraries, such as Pandas for data manipulation and Matplotlib for data visualization.\n",
        "\n",
        "NumPy is a critical tool in scientific computing and data analysis in Python because it provides fast and efficient operations on large datasets. It is particularly important in fields like data science, machine learning, and scientific research where numerical and mathematical operations on large datasets are common."
      ],
      "metadata": {
        "id": "OYg1RW86seRs"
      }
    },
    {
      "cell_type": "markdown",
      "source": [
        "NumPy to create a 1 dimensional array, add elements to it & perform some basic operations:"
      ],
      "metadata": {
        "id": "WYw4QLvg9Wio"
      }
    },
    {
      "cell_type": "code",
      "source": [
        "import numpy as np\n",
        "\n",
        "# Create a 1-dimensional array\n",
        "arr = np.array([1, 2, 3, 4, 5])\n",
        "print(\"Array: \", arr)\n",
        "\n",
        "# Add elements to the array\n",
        "arr = np.append(arr, [6, 7, 8])\n",
        "print(\"Updated Array: \", arr)\n",
        "\n",
        "# Basic operations\n",
        "print(\"Mean: \", arr.mean())\n",
        "print(\"Max: \", arr.max())\n",
        "print(\"Min: \", arr.min())\n",
        "print(\"Standard Deviation: \", arr.std())\n"
      ],
      "metadata": {
        "colab": {
          "base_uri": "https://localhost:8080/"
        },
        "id": "ilHD7-ra9XzY",
        "outputId": "34f77a65-6e87-4a10-a229-f821e6479512"
      },
      "execution_count": null,
      "outputs": [
        {
          "output_type": "stream",
          "name": "stdout",
          "text": [
            "Array:  [1 2 3 4 5]\n",
            "Updated Array:  [1 2 3 4 5 6 7 8]\n",
            "Mean:  4.5\n",
            "Max:  8\n",
            "Min:  1\n",
            "Standard Deviation:  2.29128784747792\n"
          ]
        }
      ]
    },
    {
      "cell_type": "markdown",
      "source": [
        " NumPy to create a 2-dimensional array, index and slice elements, and perform matrix operations:"
      ],
      "metadata": {
        "id": "38nOw5Qi9u8Y"
      }
    },
    {
      "cell_type": "code",
      "source": [
        "import numpy as np\n",
        "\n",
        "# Create a 2-dimensional array\n",
        "arr = np.array([[1, 2, 3], [4, 5, 6], [7, 8, 9]])\n",
        "print(\"Array: \\n\", arr)\n",
        "\n",
        "# Index elements\n",
        "print(\"Element at (0, 2): \", arr[0][2])\n",
        "\n",
        "# Slice elements\n",
        "print(\"First two rows: \\n\", arr[:2])\n",
        "print(\"Last two columns: \\n\", arr[:, -2:])\n",
        "\n",
        "# Matrix operations\n",
        "print(\"Transpose: \\n\", arr.T)\n",
        "print(\"Dot product: \\n\", np.dot(arr, arr.T))\n"
      ],
      "metadata": {
        "colab": {
          "base_uri": "https://localhost:8080/"
        },
        "id": "lXq3aXDr9wJ4",
        "outputId": "0f7b0ede-b5fe-4951-ef5a-fb517be5d310"
      },
      "execution_count": null,
      "outputs": [
        {
          "output_type": "stream",
          "name": "stdout",
          "text": [
            "Array: \n",
            " [[1 2 3]\n",
            " [4 5 6]\n",
            " [7 8 9]]\n",
            "Element at (0, 2):  3\n",
            "First two rows: \n",
            " [[1 2 3]\n",
            " [4 5 6]]\n",
            "Last two columns: \n",
            " [[2 3]\n",
            " [5 6]\n",
            " [8 9]]\n",
            "Transpose: \n",
            " [[1 4 7]\n",
            " [2 5 8]\n",
            " [3 6 9]]\n",
            "Dot product: \n",
            " [[ 14  32  50]\n",
            " [ 32  77 122]\n",
            " [ 50 122 194]]\n"
          ]
        }
      ]
    },
    {
      "cell_type": "markdown",
      "source": [
        "NumPy to generate arrays using built-in functions and perform element-wise operations:"
      ],
      "metadata": {
        "id": "hj4QtHWC-G-h"
      }
    },
    {
      "cell_type": "code",
      "source": [
        "import numpy as np\n",
        "\n",
        "# Generate arrays using built-in functions\n",
        "a = np.arange(10)\n",
        "b = np.linspace(0, 11,11)\n",
        "c = np.ones((3, 3))\n",
        "d = np.random.randint(0, 10, (3, 3))\n",
        "\n",
        "print(\"a: \", a)\n",
        "print(\"b: \", b)\n",
        "print(\"c: \\n\", c)\n",
        "print(\"d: \\n\", d)\n",
        "\n",
        "# Perform element-wise operations\n",
        "print(\"a + b: \", a + b)\n",
        "print(\"c * d: \\n\", c * d)\n",
        "print(\"d ** 2: \\n\", d ** 2)\n",
        "print(\"sin(d): \\n\", np.sin(d))\n"
      ],
      "metadata": {
        "colab": {
          "base_uri": "https://localhost:8080/",
          "height": 426
        },
        "id": "-CMw0n8z-Hsx",
        "outputId": "c6811f76-d8a7-4c91-cd4c-c95cb6c80392"
      },
      "execution_count": null,
      "outputs": [
        {
          "output_type": "stream",
          "name": "stdout",
          "text": [
            "a:  [0 1 2 3 4 5 6 7 8 9]\n",
            "b:  [ 0.   1.1  2.2  3.3  4.4  5.5  6.6  7.7  8.8  9.9 11. ]\n",
            "c: \n",
            " [[1. 1. 1.]\n",
            " [1. 1. 1.]\n",
            " [1. 1. 1.]]\n",
            "d: \n",
            " [[8 3 9]\n",
            " [7 0 7]\n",
            " [4 8 6]]\n"
          ]
        },
        {
          "output_type": "error",
          "ename": "ValueError",
          "evalue": "ignored",
          "traceback": [
            "\u001b[0;31m---------------------------------------------------------------------------\u001b[0m",
            "\u001b[0;31mValueError\u001b[0m                                Traceback (most recent call last)",
            "\u001b[0;32m<ipython-input-11-30ad9701e8da>\u001b[0m in \u001b[0;36m<module>\u001b[0;34m\u001b[0m\n\u001b[1;32m     13\u001b[0m \u001b[0;34m\u001b[0m\u001b[0m\n\u001b[1;32m     14\u001b[0m \u001b[0;31m# Perform element-wise operations\u001b[0m\u001b[0;34m\u001b[0m\u001b[0;34m\u001b[0m\u001b[0;34m\u001b[0m\u001b[0m\n\u001b[0;32m---> 15\u001b[0;31m \u001b[0mprint\u001b[0m\u001b[0;34m(\u001b[0m\u001b[0;34m\"a + b: \"\u001b[0m\u001b[0;34m,\u001b[0m \u001b[0ma\u001b[0m \u001b[0;34m+\u001b[0m \u001b[0mb\u001b[0m\u001b[0;34m)\u001b[0m\u001b[0;34m\u001b[0m\u001b[0;34m\u001b[0m\u001b[0m\n\u001b[0m\u001b[1;32m     16\u001b[0m \u001b[0mprint\u001b[0m\u001b[0;34m(\u001b[0m\u001b[0;34m\"c * d: \\n\"\u001b[0m\u001b[0;34m,\u001b[0m \u001b[0mc\u001b[0m \u001b[0;34m*\u001b[0m \u001b[0md\u001b[0m\u001b[0;34m)\u001b[0m\u001b[0;34m\u001b[0m\u001b[0;34m\u001b[0m\u001b[0m\n\u001b[1;32m     17\u001b[0m \u001b[0mprint\u001b[0m\u001b[0;34m(\u001b[0m\u001b[0;34m\"d ** 2: \\n\"\u001b[0m\u001b[0;34m,\u001b[0m \u001b[0md\u001b[0m \u001b[0;34m**\u001b[0m \u001b[0;36m2\u001b[0m\u001b[0;34m)\u001b[0m\u001b[0;34m\u001b[0m\u001b[0;34m\u001b[0m\u001b[0m\n",
            "\u001b[0;31mValueError\u001b[0m: operands could not be broadcast together with shapes (10,) (11,) "
          ]
        }
      ]
    },
    {
      "cell_type": "markdown",
      "source": [
        "NumPy to demonstrate broadcasting, reshaping and stacking arrays:"
      ],
      "metadata": {
        "id": "QSvgzezO_ggg"
      }
    },
    {
      "cell_type": "code",
      "source": [
        "import numpy as np\n",
        "\n",
        "# Broadcasting\n",
        "a = np.array([1, 2, 3])\n",
        "b = np.array([10, 20, 30])\n",
        "c = a + b\n",
        "print(\"a: \", a)\n",
        "print(\"b: \", b)\n",
        "print(\"c (a + b): \", c)\n",
        "\n",
        "# Reshaping\n",
        "d = np.array([1, 2, 3, 4, 5, 6, 7, 8, 9, 10])\n",
        "e = d.reshape(2, 5)\n",
        "print(\"d: \", d)\n",
        "print(\"e (reshaped d): \\n\", e)\n",
        "\n",
        "# Stacking arrays\n",
        "f = np.array([[1, 2, 3], [4, 5, 6]])\n",
        "g = np.array([[7, 8, 9], [10, 11, 12]])\n",
        "h = np.vstack((f, g))\n",
        "i = np.hstack((f, g))\n",
        "print(\"f: \\n\", f)\n",
        "print(\"g: \\n\", g)\n",
        "print(\"h (vertically stacked f and g): \\n\", h)\n",
        "print(\"i (horizontally stacked f and g): \\n\", i)\n"
      ],
      "metadata": {
        "colab": {
          "base_uri": "https://localhost:8080/"
        },
        "id": "w8PU1Ctw_h5P",
        "outputId": "7bc23d29-1081-4c77-e317-62e0d79a760a"
      },
      "execution_count": null,
      "outputs": [
        {
          "output_type": "stream",
          "name": "stdout",
          "text": [
            "a:  [1 2 3]\n",
            "b:  [10 20 30]\n",
            "c (a + b):  [11 22 33]\n",
            "d:  [ 1  2  3  4  5  6  7  8  9 10]\n",
            "e (reshaped d): \n",
            " [[ 1  2  3  4  5]\n",
            " [ 6  7  8  9 10]]\n",
            "f: \n",
            " [[1 2 3]\n",
            " [4 5 6]]\n",
            "g: \n",
            " [[ 7  8  9]\n",
            " [10 11 12]]\n",
            "h (vertically stacked f and g): \n",
            " [[ 1  2  3]\n",
            " [ 4  5  6]\n",
            " [ 7  8  9]\n",
            " [10 11 12]]\n",
            "i (horizontally stacked f and g): \n",
            " [[ 1  2  3  7  8  9]\n",
            " [ 4  5  6 10 11 12]]\n"
          ]
        }
      ]
    },
    {
      "cell_type": "markdown",
      "source": [
        "NumPy to demonstrate slicing and indexing of arrays:"
      ],
      "metadata": {
        "id": "the1YiwnBsJK"
      }
    },
    {
      "cell_type": "code",
      "source": [
        "import numpy as np\n",
        "\n",
        "# Slicing and indexing\n",
        "a = np.array([1, 2, 3, 4, 5, 6, 7, 8, 9, 10])\n",
        "b = a[:5]\n",
        "c = a[5:]\n",
        "d = a[::2]\n",
        "e = a[::-1]\n",
        "print(\"a: \", a)\n",
        "print(\"b (a[:5]): \", b)\n",
        "print(\"c (a[5:]): \", c)\n",
        "print(\"d (a[::2]): \", d)\n",
        "print(\"e (a[::-1]): \", e)\n",
        "\n",
        "f = np.array([[1, 2, 3], [4, 5, 6], [7, 8, 9]])\n",
        "g = f[0, :]\n",
        "h = f[:, 0]\n",
        "i = f[1:, 1:]\n",
        "print(\"f: \\n\", f)\n",
        "print(\"g (f[0, :]): \", g)\n",
        "print(\"h (f[:, 0]): \", h)\n",
        "print(\"i (f[1:, 1:]): \\n\", i)\n"
      ],
      "metadata": {
        "colab": {
          "base_uri": "https://localhost:8080/"
        },
        "id": "7Gy78jmLBs6J",
        "outputId": "fab1f210-3ff1-4801-80b7-8f541af35712"
      },
      "execution_count": null,
      "outputs": [
        {
          "output_type": "stream",
          "name": "stdout",
          "text": [
            "a:  [ 1  2  3  4  5  6  7  8  9 10]\n",
            "b (a[:5]):  [1 2 3 4 5]\n",
            "c (a[5:]):  [ 6  7  8  9 10]\n",
            "d (a[::2]):  [1 3 5 7 9]\n",
            "e (a[::-1]):  [10  9  8  7  6  5  4  3  2  1]\n",
            "f: \n",
            " [[1 2 3]\n",
            " [4 5 6]\n",
            " [7 8 9]]\n",
            "g (f[0, :]):  [1 2 3]\n",
            "h (f[:, 0]):  [1 4 7]\n",
            "i (f[1:, 1:]): \n",
            " [[5 6]\n",
            " [8 9]]\n"
          ]
        }
      ]
    },
    {
      "cell_type": "markdown",
      "source": [
        "NumPy to demonstrate statistical operations on arrays:"
      ],
      "metadata": {
        "id": "Hed54o0KBxOa"
      }
    },
    {
      "cell_type": "code",
      "source": [
        "import numpy as np\n",
        "\n",
        "# Statistical operations\n",
        "a = np.array([1, 2, 3, 4, 5, 6, 7, 8, 9, 10])\n",
        "b = np.mean(a)\n",
        "c = np.median(a)\n",
        "d = np.std(a)\n",
        "e = np.var(a)\n",
        "print(\"a: \", a)\n",
        "print(\"b (mean of a): \", b)\n",
        "print(\"c (median of a): \", c)\n",
        "print(\"d (standard deviation of a): \", d)\n",
        "print(\"e (variance of a): \", e)\n",
        "\n",
        "f = np.array([[1, 2, 3], [4, 5, 6], [7, 8, 9]])\n",
        "g = np.mean(f, axis=0)\n",
        "h = np.median(f, axis=1)\n",
        "i = np.std(f, axis=None)\n",
        "j = np.var(f, axis=None)\n",
        "print(\"f: \\n\", f)\n",
        "print(\"g (mean of f along axis 0): \", g)\n",
        "print(\"h (median of f along axis 1): \", h)\n",
        "print(\"i (standard deviation of f along axis None): \", i)\n",
        "print(\"j (variance of f along axis None): \", j)\n"
      ],
      "metadata": {
        "colab": {
          "base_uri": "https://localhost:8080/"
        },
        "id": "9wx_OhHGB-YS",
        "outputId": "30945501-4e7d-4fdf-9c4f-7a727b3f5378"
      },
      "execution_count": null,
      "outputs": [
        {
          "output_type": "stream",
          "name": "stdout",
          "text": [
            "a:  [ 1  2  3  4  5  6  7  8  9 10]\n",
            "b (mean of a):  5.5\n",
            "c (median of a):  5.5\n",
            "d (standard deviation of a):  2.8722813232690143\n",
            "e (variance of a):  8.25\n",
            "f: \n",
            " [[1 2 3]\n",
            " [4 5 6]\n",
            " [7 8 9]]\n",
            "g (mean of f along axis 0):  [4. 5. 6.]\n",
            "h (median of f along axis 1):  [2. 5. 8.]\n",
            "i (standard deviation of f along axis None):  2.581988897471611\n",
            "j (variance of f along axis None):  6.666666666666667\n"
          ]
        }
      ]
    },
    {
      "cell_type": "markdown",
      "source": [
        "NumPy to demonstrate matrix operations:"
      ],
      "metadata": {
        "id": "HU4Yh86oCOgw"
      }
    },
    {
      "cell_type": "code",
      "source": [
        "import numpy as np\n",
        "\n",
        "# Matrix operations\n",
        "a = np.array([1, 2, 3])\n",
        "b = np.array([4, 5, 6])\n",
        "c = np.dot(a, b)\n",
        "d = np.outer(a, b)\n",
        "e = np.inner(a, b)\n",
        "print(\"a: \", a)\n",
        "print(\"b: \", b)\n",
        "print(\"c (dot product of a and b): \", c)\n",
        "print(\"d (outer product of a and b): \\n\", d)\n",
        "print(\"e (inner product of a and b): \", e)\n",
        "\n",
        "f = np.array([[1, 2], [3, 4]])\n",
        "g = np.array([[5, 6], [7, 8]])\n",
        "h = np.matmul(f, g)\n",
        "i = np.transpose(f)\n",
        "j = np.linalg.inv(f)\n",
        "print(\"f: \\n\", f)\n",
        "print(\"g: \\n\", g)\n",
        "print(\"h (matrix product of f and g): \\n\", h)\n",
        "print(\"i (transpose of f): \\n\", i)\n",
        "print(\"j (inverse of f): \\n\", j)\n"
      ],
      "metadata": {
        "colab": {
          "base_uri": "https://localhost:8080/"
        },
        "id": "gNHWTM_XCZ0G",
        "outputId": "cc22bb0d-df87-4750-da91-ba8e6de46e9d"
      },
      "execution_count": null,
      "outputs": [
        {
          "output_type": "stream",
          "name": "stdout",
          "text": [
            "a:  [1 2 3]\n",
            "b:  [4 5 6]\n",
            "c (dot product of a and b):  32\n",
            "d (outer product of a and b): \n",
            " [[ 4  5  6]\n",
            " [ 8 10 12]\n",
            " [12 15 18]]\n",
            "e (inner product of a and b):  32\n",
            "f: \n",
            " [[1 2]\n",
            " [3 4]]\n",
            "g: \n",
            " [[5 6]\n",
            " [7 8]]\n",
            "h (matrix product of f and g): \n",
            " [[19 22]\n",
            " [43 50]]\n",
            "i (transpose of f): \n",
            " [[1 3]\n",
            " [2 4]]\n",
            "j (inverse of f): \n",
            " [[-2.   1. ]\n",
            " [ 1.5 -0.5]]\n"
          ]
        }
      ]
    },
    {
      "cell_type": "markdown",
      "source": [
        "NumPy to demonstrate random number generation:"
      ],
      "metadata": {
        "id": "KjsDbMXICojg"
      }
    },
    {
      "cell_type": "code",
      "source": [
        "import numpy as np\n",
        "\n",
        "# Random number generation\n",
        "a = np.random.rand(3)\n",
        "b = np.random.randn(3)\n",
        "c = np.random.randint(0, 10, 3)\n",
        "d = np.random.choice(5, 3, replace=True)\n",
        "e = np.random.beta(1, 10, 3)\n",
        "print(\"a (uniformly distributed random numbers): \", a)\n",
        "print(\"b (normally distributed random numbers): \", b)\n",
        "print(\"c (random integers between 0 and 10): \", c)\n",
        "print(\"d (random samples from [0,1,2,3,4] with replacement): \", d)\n",
        "print(\"e (beta-distributed random numbers with alpha=1, beta=10): \", e)\n",
        "\n",
        "np.random.seed(0)\n",
        "f = np.random.rand(3)\n",
        "print(\"f (random numbers with seed 0): \", f)\n"
      ],
      "metadata": {
        "colab": {
          "base_uri": "https://localhost:8080/"
        },
        "id": "HodKZmTrCqkB",
        "outputId": "2bbac64c-655a-49e4-b6a4-2cdb0e809d41"
      },
      "execution_count": null,
      "outputs": [
        {
          "output_type": "stream",
          "name": "stdout",
          "text": [
            "a (uniformly distributed random numbers):  [0.30292082 0.04399313 0.4596059 ]\n",
            "b (normally distributed random numbers):  [-1.7040241   0.06010782  0.53688614]\n",
            "c (random integers between 0 and 10):  [5 9 6]\n",
            "d (random samples from [0,1,2,3,4] with replacement):  [4 0 3]\n",
            "e (beta-distributed random numbers with alpha=1, beta=10):  [0.04658456 0.0331394  0.03579193]\n",
            "f (random numbers with seed 0):  [0.5488135  0.71518937 0.60276338]\n"
          ]
        }
      ]
    },
    {
      "cell_type": "code",
      "source": [],
      "metadata": {
        "id": "qOkS03A2EQGX"
      },
      "execution_count": null,
      "outputs": []
    },
    {
      "cell_type": "markdown",
      "source": [
        "NumPy is important for several reasons:\n",
        "\n",
        "Efficient array computation: NumPy provides a high-performance multidimensional array object and tools for working with these arrays. It is faster than using Python's built-in list data structure for numerical computations.\n",
        "\n",
        "Broadcasting: NumPy arrays support broadcasting, which allows performing mathematical operations on arrays of different shapes and sizes.\n",
        "\n",
        "Array programming: NumPy provides a convenient and efficient way to implement array-oriented computing in Python, which is useful for tasks such as scientific computing, data analysis, and machine learning.\n",
        "\n",
        "Interoperability: NumPy integrates with other popular Python libraries, such as SciPy, Matplotlib, and Pandas, making it an essential part of the scientific computing stack in Python.\n",
        "\n",
        "Built-in functions: NumPy provides a large collection of built-in functions for performing operations on arrays, such as mathematical, statistical, and linear algebra operations.\n",
        "\n",
        "Overall, NumPy is an essential library for anyone working with numerical data in Python, offering a fast and convenient way to perform array-oriented computing."
      ],
      "metadata": {
        "id": "1w-rox7wGA29"
      }
    }
  ]
}